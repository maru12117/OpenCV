{
 "cells": [
  {
   "cell_type": "markdown",
   "id": "8d92fdac",
   "metadata": {},
   "source": [
    "## 영상처리 - 기본 입출력"
   ]
  },
  {
   "cell_type": "code",
   "execution_count": 1,
   "id": "10ba6f6f",
   "metadata": {},
   "outputs": [],
   "source": [
    "import cv2\n",
    "import numpy as np"
   ]
  },
  {
   "cell_type": "code",
   "execution_count": 7,
   "id": "36ca329a",
   "metadata": {},
   "outputs": [],
   "source": [
    "# 이미지 읽기\n",
    "\n",
    "img_file = \"./img/girl.jpg\"\n",
    "img=cv2.imread(img_file) #이미지를 읽어서 img 변수에 할당함\n",
    "\n",
    "if img is not None: #만약에 이미지가 있으면...\n",
    "    cv2.imshow('IMG',img) #읽은 이미지 화면 표기\n",
    "    cv2.waitKey() #키가 입력될때까지 대기함\n",
    "    cv2.destroyAllWindows() #창 모두 닫기\n",
    "else:\n",
    "    print(\"No img\")"
   ]
  },
  {
   "cell_type": "code",
   "execution_count": 8,
   "id": "73db0ccf",
   "metadata": {},
   "outputs": [],
   "source": [
    "## 이미지를 그레이 스케일로 화면에 표시\n",
    "\n",
    "img_file = \"./img/girl.jpg\"\n",
    "img=cv2.imread(img_file, cv2.IMREAD_GRAYSCALE) #그레이 스케일로 읽기\n",
    "\n",
    "if img is not None: #만약에 이미지가 있으면...\n",
    "    cv2.imshow('IMG',img) #읽은 이미지 화면 표기\n",
    "    cv2.waitKey() #키가 입력될때까지 대기함\n",
    "    cv2.destroyAllWindows() #창 모두 닫기\n",
    "else:\n",
    "    print(\"No img\")"
   ]
  },
  {
   "cell_type": "code",
   "execution_count": 9,
   "id": "301e4f0f",
   "metadata": {},
   "outputs": [],
   "source": [
    "## 이미지 저장하기\n",
    "\n",
    "img_file = \"./img/girl.jpg\"\n",
    "save_file = \"/img/girl-grayscale.jpg\"\n",
    "img=cv2.imread(img_file, cv2.IMREAD_GRAYSCALE) #그레이 스케일로 읽기\n",
    "\n",
    "if img is not None: #만약에 이미지가 있으면...\n",
    "    cv2.imshow(img_file,img) #읽은 이미지 화면 표기\n",
    "    cv2.imwrite(save_file,img)\n",
    "    cv2.waitKey() #키가 입력될때까지 대기함\n",
    "    cv2.destroyAllWindows() #창 모두 닫기\n",
    "else:\n",
    "    print(\"No img\")"
   ]
  },
  {
   "cell_type": "code",
   "execution_count": 4,
   "id": "64cb2e8d",
   "metadata": {},
   "outputs": [],
   "source": [
    "## 동영상 파일 읽기\n",
    "video_file = \"./img/big_buck.avi\"\n",
    "cap = cv2.VideoCapture(video_file)\n",
    "if cap.isOpened():\n",
    "    while True:\n",
    "        ret, img = cap.read()\n",
    "        if ret:\n",
    "            cv2.imshow(\"video\",img)\n",
    "            cv2.waitKey(25) #25ms 지연\n",
    "        else:\n",
    "            break\n",
    "else:\n",
    "    print(\"can't open video\")\n",
    "cap.release()\n",
    "cv2.destroyAllWindows()"
   ]
  },
  {
   "cell_type": "code",
   "execution_count": 3,
   "id": "83bd93b9",
   "metadata": {},
   "outputs": [],
   "source": [
    "## 카메라 연결하여...파일 읽기\n",
    "cap = cv2.VideoCapture(0) #0번 카메라 연결\n",
    "if cap.isOpened():\n",
    "    while True:\n",
    "        ret, img = cap.read()\n",
    "        if ret :\n",
    "            cv2.imshow(\"camera\",img)\n",
    "            if cv2.waitKey(1) != -1: #1ms 동안 입력대기하다가...아무키나 누르면..중지함\n",
    "                break\n",
    "        else:\n",
    "            print(\"can't no frame\")\n",
    "            break\n",
    "else:\n",
    "    print(\"can't open camera\")\n",
    "cap.release()\n",
    "cv2.destroyAllWindows()"
   ]
  },
  {
   "cell_type": "code",
   "execution_count": 8,
   "id": "e0c21951",
   "metadata": {},
   "outputs": [
    {
     "name": "stdout",
     "output_type": "stream",
     "text": [
      "FPS:24.000000, Delay:41ms\n"
     ]
    }
   ],
   "source": [
    "## FPS를 지정하여 동영상 재생함\n",
    "\n",
    "video_file = \"./img/big_buck.avi\"\n",
    "cap = cv2.VideoCapture(video_file)\n",
    "if cap.isOpened():\n",
    "    fps = cap.get(cv2.CAP_PROP_FPS)\n",
    "    delay = int(1000/fps)\n",
    "    print(\"FPS:%f, Delay:%dms\" % (fps, delay))\n",
    "\n",
    "    while True:\n",
    "        ret, img = cap.read()\n",
    "        if ret:\n",
    "            cv2.imshow(\"video\",img)\n",
    "            cv2.waitKey(delay) #지연\n",
    "        else:\n",
    "            break\n",
    "else:\n",
    "    print(\"can't open video\")\n",
    "    \n",
    "cap.release()\n",
    "cv2.destroyAllWindows()"
   ]
  },
  {
   "cell_type": "code",
   "execution_count": 9,
   "id": "35d539b5",
   "metadata": {},
   "outputs": [
    {
     "name": "stdout",
     "output_type": "stream",
     "text": [
      "Original width : 640, height : 480\n",
      "Resized width : 320, height : 240\n"
     ]
    }
   ],
   "source": [
    "## 카메라 프레임 설정\n",
    "cap = cv2.VideoCapture(0) #0번 카메라 연결\n",
    "width=cap.get(cv2.CAP_PROP_FRAME_WIDTH)\n",
    "height=cap.get(cv2.CAP_PROP_FRAME_HEIGHT)\n",
    "print(\"Original width : %d, height : %d\" % (width, height))\n",
    "cap.set(cv2.cv2.CAP_PROP_FRAME_WIDTH, 320) #재설정\n",
    "cap.set(cv2.cv2.CAP_PROP_FRAME_HEIGHT, 240)\n",
    "width=cap.get(cv2.CAP_PROP_FRAME_WIDTH)\n",
    "height=cap.get(cv2.CAP_PROP_FRAME_HEIGHT)\n",
    "print(\"Resized width : %d, height : %d\" % (width, height))\n",
    "if cap.isOpened():\n",
    "    while True:\n",
    "        ret, img = cap.read()\n",
    "        if ret :\n",
    "            cv2.imshow(\"camera\",img)\n",
    "            if cv2.waitKey(1) != -1: #1ms 동안 입력대기하다가...아무키나 누르면..중지함\n",
    "                break\n",
    "        else:\n",
    "            print(\"can't no frame\")\n",
    "            break\n",
    "else:\n",
    "    print(\"can't open camera\")\n",
    "cap.release()\n",
    "cv2.destroyAllWindows()"
   ]
  },
  {
   "cell_type": "code",
   "execution_count": 10,
   "id": "5474d4f1",
   "metadata": {},
   "outputs": [],
   "source": [
    "## 카메라로 사진찍기\n",
    "cap = cv2.VideoCapture(0) #0번 카메라 연결\n",
    "if cap.isOpened():\n",
    "    while True:\n",
    "        ret, img = cap.read()\n",
    "        if ret :\n",
    "            cv2.imshow(\"camera\",img)\n",
    "            if cv2.waitKey(1) != -1: #1ms 동안 입력대기하다가...아무키나 누르면..중지\n",
    "                cv2.imwrite(\"./img/photo_me.png\", img) #해당 img프레임을 저장함\n",
    "                break\n",
    "        else:\n",
    "            print(\"can't no frame\")\n",
    "            break\n",
    "else:\n",
    "    print(\"can't open camera\")\n",
    "cap.release()\n",
    "cv2.destroyAllWindows()"
   ]
  },
  {
   "cell_type": "code",
   "execution_count": 14,
   "id": "fae2f2db",
   "metadata": {},
   "outputs": [],
   "source": [
    "## 카메라로 녹화하기\n",
    "\n",
    "cap = cv2.VideoCapture(0)\n",
    "if cap.isOpened():\n",
    "    file_path = \"./img/record.avi\"\n",
    "    fps = 25.40\n",
    "    fourcc = cv2.VideoWriter_fourcc(*'DIVX') #인코딩 포맷 문자\n",
    "    width = cap.get(cv2.CAP_PROP_FRAME_WIDTH)\n",
    "    height = cap.get(cv2.CAP_PROP_FRAME_HEIGHT)\n",
    "    size = (int(width), int(height))\n",
    "    out = cv2.VideoWriter(file_path, fourcc, fps, size) #VideoWriter 객체 생성\n",
    "    while True:\n",
    "        ret, img = cap.read()\n",
    "        if ret :\n",
    "            cv2.imshow(\"camera\",img)\n",
    "            out.write(img)\n",
    "            if cv2.waitKey(int(1000/fps)) != -1: #1ms 동안 입력대기하다가...아무키나 누르면..중지\n",
    "                break\n",
    "        else:\n",
    "            print(\"can't no frame\")\n",
    "            break\n",
    "    out.release() #저장객체 빠져나오기..\n",
    "else:\n",
    "    print(\"can't open camera\")\n",
    "cap.release()\n",
    "cv2.destroyAllWindows()"
   ]
  },
  {
   "cell_type": "markdown",
   "id": "b3e187d7",
   "metadata": {},
   "source": [
    "## 그림그리기"
   ]
  },
  {
   "cell_type": "code",
   "execution_count": 16,
   "id": "14b2c79f",
   "metadata": {},
   "outputs": [
    {
     "data": {
      "text/plain": [
       "True"
      ]
     },
     "execution_count": 16,
     "metadata": {},
     "output_type": "execute_result"
    }
   ],
   "source": [
    "import cv2\n",
    "import numpy as np\n",
    "img = np.full((500,500,3), 255, dtype=np.uint8)\n",
    "cv2.imwrite(\"./img/blank_500.jpg\", img)"
   ]
  },
  {
   "cell_type": "code",
   "execution_count": 28,
   "id": "ab448898",
   "metadata": {},
   "outputs": [],
   "source": [
    "## 직선 그리기\n",
    "img=cv2.imread(\"./img/blank_500.jpg\")\n",
    "cv2.line(img, (50,50), (150,50),(255,0,0)) #파란색 1픽셀 선\n",
    "cv2.line(img, (200,50), (300,50),(0,255,0)) #초록색 1픽셀 선\n",
    "cv2.line(img, (350,50), (450,50),(0,0,255)) #빨간색 1픽셀 선\n",
    "\n",
    "cv2.line(img, (100,100), (400,100),(255,255,0),10) #하늘색(파랑+초록) 10픽셀\n",
    "cv2.line(img, (100,150), (400,150),(255,0,255),10) #분홍색(파랑+빨강) 10픽셀\n",
    "cv2.line(img, (100,200), (400,200),(0,255,255),10) #노랑색(초록+빨강) 10픽셀\n",
    "\n",
    "cv2.line(img, (100,250), (400,250),(200,200,200),10) #회색(파랑+초록+빨강) 10픽셀\n",
    "cv2.line(img, (100,300), (400,300),(0,0,0),10) #검정색 10픽셀\n",
    "\n",
    "cv2.line(img, (100,350), (400,400),(0,0,255),20, cv2.LINE_4) #4연결선\n",
    "cv2.line(img, (100,400), (400,450),(0,0,255),20, cv2.LINE_8) #8연결선\n",
    "cv2.line(img, (100,450), (400,500),(0,0,255),20, cv2.LINE_AA) #안티에일리어싱 선\n",
    "\n",
    "#이미지 전체에 대한 대각선\n",
    "cv2.line(img, (0,0), (500,500),(0,0,255))\n",
    "cv2.imshow(\"Lines\",img)\n",
    "cv2.waitKey(0)\n",
    "cv2.destroyAllWindows()"
   ]
  },
  {
   "cell_type": "code",
   "execution_count": 33,
   "id": "56f05ba3",
   "metadata": {},
   "outputs": [],
   "source": [
    "## 사각형 그리기\n",
    "\n",
    "img=cv2.imread(\"./img/blank_500.jpg\")\n",
    "cv2.rectangle(img, (50,50),(150,150),(255,0,0))\n",
    "cv2.rectangle(img, (300,300),(100,100),(0,255,0),3)\n",
    "cv2.rectangle(img, (450,200),(200,400),(0,0,255),-1) #색채우기 픽셀\n",
    "cv2.imshow(\"Rectangle\",img)\n",
    "cv2.waitKey(0)\n",
    "cv2.destroyAllWindows()"
   ]
  },
  {
   "cell_type": "code",
   "execution_count": 43,
   "id": "119b48d8",
   "metadata": {},
   "outputs": [],
   "source": [
    "## 다각형 그리기\n",
    "\n",
    "img=cv2.imread(\"./img/blank_500.jpg\")\n",
    "pts1 = np.array([[50,50],[150,150],[100,140],[200,240]], dtype=np.int32)\n",
    "pts2 = np.array([[350,50],[250,200],[450,200]], dtype=np.int32)\n",
    "pts3 = np.array([[150,300],[50,450],[250,450]], dtype=np.int32)\n",
    "pts4 = np.array([[350,250],[450,350],[400,450],[300,450],[250,350]], dtype=np.int32)\n",
    "cv2.polylines(img, [pts1], False, (255,0,0)) #번개 모양 선 그리기\n",
    "cv2.polylines(img, [pts2], False, (0,0,0),10) #3각형 열린 선 그리기\n",
    "cv2.polylines(img, [pts3], True, (0,0,255),10) #3각형 닫힌 도형 그리기\n",
    "cv2.polylines(img, [pts4], True, (0,0,0),10) #다각형 닫힌 도형 그리기\n",
    "cv2.imshow(\"Rectangle\",img)\n",
    "cv2.waitKey(0)\n",
    "cv2.destroyAllWindows()"
   ]
  },
  {
   "cell_type": "code",
   "execution_count": 3,
   "id": "942a6796",
   "metadata": {},
   "outputs": [
    {
     "data": {
      "text/plain": [
       "True"
      ]
     },
     "execution_count": 3,
     "metadata": {},
     "output_type": "execute_result"
    }
   ],
   "source": [
    "## 원, 타원 , 호 그리기\n",
    "\n",
    "img = np.full((500,500,3), 255, dtype=np.uint8)\n",
    "cv2.imwrite(\"./img/blank_500.jpg\", img)"
   ]
  },
  {
   "cell_type": "code",
   "execution_count": 20,
   "id": "2b7d1b65",
   "metadata": {},
   "outputs": [],
   "source": [
    "#원점(150,150) 반지름 100\n",
    "cv2.circle(img, (150,150), 100, (255,0,0))\n",
    "#원점(300, 150) 반지름 70\n",
    "cv2.circle(img, (300,150), 70, (0,255,0), 5)\n",
    "#원점 (400,150) 반지름 50, 채우기\n",
    "cv2.circle(img, (400,150), 50,(0,0,255),-1)\n",
    "#원점 (50,300) 반지름 50 회점 0, 0도부터 360도 호 그리기\n",
    "cv2.ellipse(img, (50,300), (50,50), 0,0,360, (0,0,255),2)\n",
    "# 원점 (150.300), 반지름 50 아래 반원 그리기\n",
    "cv2.ellipse(img, (150,300), (50,50), 0,0,180, (0,255,0),2)\n",
    "# 원점 (200.300), 반지름 50 위 반원 그리기\n",
    "cv2.ellipse(img, (200,300), (50,50), 0,181,360, (255,0,0),2)\n",
    "\n",
    "#원점(325.300) 반지름 75,50  납작한 타원 그리기\n",
    "cv2.ellipse(img, (325, 300), (75,50), 0,0,360, (0,255,0),3)\n",
    "#원점(450,300) 반지름 50,70  홀쭉한 타원 그리기\n",
    "cv2.ellipse(img, (450, 300), (50,75), 0,0,360, (0,0,255),3)\n",
    "\n",
    "#원점 (50,425) 반지름 (50,75) 회전 15도\n",
    "cv2.ellipse(img, (50,450), (50,75), 15,0,360, (200,200,200),3)\n",
    "#원점 (200,425) 반지름 (50,75) 회전 45도\n",
    "cv2.ellipse(img, (200,450), (50,75), 45,0,360, (200,200,0),3)\n",
    "\n",
    "#원점 (350,425) 홀쭉한 타워 45도 회전 후 아래반원 그리기\n",
    "cv2.ellipse(img, (350,425), (50,75), 45,0,180, (0,200,200),2)\n",
    "#원점 (400,425) 홀쭉한 타워 45도 회전 후 위반원 그리기\n",
    "cv2.ellipse(img, (400,425), (50,75), 45,181,360, (200,0,200),2)\n",
    "cv2.imshow(\"circle\", img)\n",
    "cv2.waitKey(0)\n",
    "cv2.destroyAllWindows()"
   ]
  },
  {
   "cell_type": "code",
   "execution_count": 42,
   "id": "066387fa",
   "metadata": {},
   "outputs": [],
   "source": [
    "## 글씨 그리기\n",
    "img = np.full((500,500,3), 255, dtype=np.uint8)\n",
    "\n",
    "#sans_serif체 small크기\n",
    "cv2.putText(img, \"Plain\", (50,30), cv2.FONT_HERSHEY_PLAIN, 1, (0,0,0))\n",
    "#sans_serif체 normal크기\n",
    "cv2.putText(img, \"Normal\", (50,70), cv2.FONT_HERSHEY_SIMPLEX, 1, (0,0,0))\n",
    "#sans_serif체 두꺼운 크기\n",
    "cv2.putText(img, \"Duplex\", (50,110), cv2.FONT_HERSHEY_DUPLEX, 1, (0,0,0))\n",
    "#sans_serif체 normal*2\n",
    "cv2.putText(img, \"Simplex\", (200,110), cv2.FONT_HERSHEY_SIMPLEX, 2, (0,0,0))\n",
    "\n",
    "#serif체 small\n",
    "cv2.putText(img, \"Complex Small\", (50,180), cv2.FONT_HERSHEY_COMPLEX_SMALL, 1, (0,0,0))\n",
    "#serif체 Normal\n",
    "cv2.putText(img, \"Complex\", (50,220), cv2.FONT_HERSHEY_COMPLEX, 1, (0,0,0))\n",
    "#serif체 bold\n",
    "cv2.putText(img, \"TRIPLEX\", (50,260), cv2.FONT_HERSHEY_TRIPLEX, 1, (0,0,0))\n",
    "#serif체 normal X2\n",
    "cv2.putText(img, \"Complex\", (200,260), cv2.FONT_HERSHEY_TRIPLEX, 2, (0,0,0))\n",
    "\n",
    "#필기 sans_serif체\n",
    "cv2.putText(img, \"Script Simplex\", (50,330), cv2.FONT_HERSHEY_SCRIPT_SIMPLEX, 1, (0,0,0))\n",
    "#필기 serif체\n",
    "cv2.putText(img, \"Script Complex\", (50,370), cv2.FONT_HERSHEY_SCRIPT_COMPLEX, 1, (0,0,0))\n",
    "#이탤릭체 플래스 + sans-serif\n",
    "cv2.putText(img, \"Plain Italic\", (50,430), cv2.FONT_HERSHEY_PLAIN | cv2.FONT_HERSHEY_SCRIPT_COMPLEX, 1, (0,0,0))\n",
    "#이탤릭체 플래스 + sarif\n",
    "cv2.putText(img, \"Complex Italic\", (50,470), cv2.FONT_HERSHEY_COMPLEX | cv2.FONT_HERSHEY_SCRIPT_COMPLEX, 1, (0,0,0))\n",
    "cv2.imshow(\"circle\", img)\n",
    "cv2.waitKey(0)\n",
    "cv2.destroyAllWindows()"
   ]
  },
  {
   "cell_type": "code",
   "execution_count": 44,
   "id": "a76bbc2c",
   "metadata": {},
   "outputs": [],
   "source": [
    "## 창관리하기\n",
    "\n",
    "file_path = \"./img/girl.jpg\"\n",
    "img=cv2.imread(file_path)\n",
    "img_gray = cv2.imread(file_path, cv2.IMREAD_GRAYSCALE)\n",
    "\n",
    "cv2.namedWindow(\"origin\", cv2.WINDOW_AUTOSIZE)\n",
    "cv2.namedWindow(\"gray\", cv2.WINDOW_NORMAL)\n",
    "\n",
    "cv2.imshow(\"origin\", img)\n",
    "cv2.imshow(\"gray\",img_gray)\n",
    "\n",
    "cv2.moveWindow(\"origin\", 0,0)\n",
    "cv2.moveWindow(\"gray\", 100,100) #창 위치 변경\n",
    "\n",
    "cv2.waitKey(0) #아무거나 누르면..\n",
    "cv2.resizeWindow(\"origin\", 200,200) #창 크기 변경(창 변경 안됨)\n",
    "cv2.resizeWindow(\"gray\", 100,100)\n",
    "\n",
    "cv2.waitKey(0)\n",
    "cv2.destroyWindow(\"gray\")\n",
    "\n",
    "cv2.waitKey(0) #아무키 누르면..\n",
    "cv2.destroyAllWindows()"
   ]
  },
  {
   "cell_type": "code",
   "execution_count": 2,
   "id": "a8539706",
   "metadata": {},
   "outputs": [
    {
     "name": "stdout",
     "output_type": "stream",
     "text": [
      "-1\n"
     ]
    }
   ],
   "source": [
    "key=cv2.waitKey(0)\n",
    "print(key)"
   ]
  },
  {
   "cell_type": "code",
   "execution_count": 2,
   "id": "876973e6",
   "metadata": {},
   "outputs": [
    {
     "name": "stdout",
     "output_type": "stream",
     "text": [
      "108 l\n",
      "108 l\n",
      "108 l\n",
      "108 l\n",
      "104 h\n",
      "104 h\n",
      "104 h\n",
      "106 j\n",
      "113 q\n"
     ]
    }
   ],
   "source": [
    "import cv2\n",
    "img_path = \"./img/girl.jpg\"\n",
    "img = cv2.imread(img_path)\n",
    "title = \"IMG\"\n",
    "x, y = 100,100\n",
    "while True:\n",
    "    cv2.imshow(title, img)\n",
    "    cv2.moveWindow(title, x, y)\n",
    "    key = cv2.waitKey(0) # 키보드 입력을 무한대기, 8비트 마스크 처리\n",
    "    print(key, chr(key))\n",
    "    if key == ord(\"h\"):\n",
    "        x -=10\n",
    "    elif key == ord(\"j\"):\n",
    "        y +=10\n",
    "    elif key ==ord(\"k\"):\n",
    "        y-=10\n",
    "    elif key ==ord(\"l\"):\n",
    "        x+=10\n",
    "    elif key ==ord(\"q\") or key==27: #q이거나 esc이면.종료됨\n",
    "        break\n",
    "    cv2.moveWindow(title, x, y)\n",
    "cv2.destroyAllWindows()"
   ]
  },
  {
   "cell_type": "code",
   "execution_count": 1,
   "id": "11b3e530",
   "metadata": {},
   "outputs": [],
   "source": [
    "#마우스 이벤트로 동그라미 그리기\n",
    "import cv2\n",
    "title = \"mouse event\"\n",
    "img=cv2.imread(\"./img/blank_500.jpg\")\n",
    "cv2.imshow(title, img)\n",
    "def onMouse(event, x, y, flags, param): #마우스 콜백함수 구현\n",
    "    if event == cv2.EVENT_LBUTTONDOWN:\n",
    "        cv2.circle(img, (x,y), 30, (0,0,0),-1)\n",
    "        cv2.imshow(title, img)\n",
    "        \n",
    "cv2.setMouseCallback(title, onMouse) # 마우스 콜백함수를 GUI 윈도우에 등록함...\n",
    "\n",
    "while True:\n",
    "    if cv2.waitKey(0) & 0xFF==27:\n",
    "        break\n",
    "cv2.destroyAllWindows()"
   ]
  },
  {
   "cell_type": "code",
   "execution_count": 4,
   "id": "25608456",
   "metadata": {},
   "outputs": [],
   "source": [
    "# 플래그를 이용한 동그라미 그리기\n",
    "import cv2\n",
    "title = \"mouse event\"\n",
    "img=cv2.imread(\"./img/blank_500.jpg\")\n",
    "cv2.imshow(title, img)\n",
    "colors = {\"black\":(0,0,0),\n",
    "        \"red\":(0,0,255),\n",
    "        \"blue\":(255,0,0),\n",
    "        \"green\":(0,255,0)}\n",
    "\n",
    "def onMouse(event, x, y, flags, param): #마우스 콜백함수 구현\n",
    "    color = colors[\"black\"]\n",
    "    if event == cv2.EVENT_LBUTTONDOWN:\n",
    "        if flags & cv2.EVENT_FLAG_CTRLKEY and flags & cv2.EVENT_FLAG_SHIFTKEY:\n",
    "            color=colors[\"green\"]\n",
    "        elif flags & cv2.EVENT_FLAG_SHIFTKEY:\n",
    "            color =colors[\"blue\"]\n",
    "        elif flags & cv2.EVENT_FLAG_CTRLKEY:\n",
    "            color =colors[\"red\"]\n",
    "        cv2.circle(img, (x,y), 30, color,-1)\n",
    "        cv2.imshow(title, img)\n",
    "        \n",
    "cv2.setMouseCallback(title, onMouse) # 마우스 콜백함수를 GUI 윈도우에 등록함...\n",
    "\n",
    "while True: #esc로 종료함\n",
    "    if cv2.waitKey(0) & 0xFF==27:\n",
    "        break\n",
    "cv2.destroyAllWindows()"
   ]
  },
  {
   "cell_type": "code",
   "execution_count": 14,
   "id": "b5735b98",
   "metadata": {},
   "outputs": [],
   "source": [
    "## 트랙바\n",
    "import cv2\n",
    "import numpy as np\n",
    "\n",
    "win_name = \"Trackbar\"\n",
    "img = cv2.imread(\"./img/blank_500.jpg\")\n",
    "cv2.imshow(win_name, img)\n",
    "\n",
    "def onChange(x):\n",
    "    global r,g,b\n",
    "    img[:] = [b,g,r]\n",
    "    cv2.imshow(win_name, img)\n",
    "    \n",
    "cv2.createTrackbar(\"R\", win_name, 255, 255, onChange)\n",
    "cv2.createTrackbar(\"G\", win_name, 255, 255, onChange)\n",
    "cv2.createTrackbar(\"B\", win_name, 255, 255, onChange)\n",
    "\n",
    "while True: #esc로 종료함\n",
    "    r = cv2.getTrackbarPos(\"R\", win_name)\n",
    "    g = cv2.getTrackbarPos(\"G\", win_name)\n",
    "    b = cv2.getTrackbarPos(\"B\", win_name)\n",
    "    if cv2.waitKey(1) & 0xFF==27:\n",
    "        break\n",
    "cv2.destroyAllWindows()"
   ]
  },
  {
   "cell_type": "code",
   "execution_count": 9,
   "id": "598ccb87",
   "metadata": {},
   "outputs": [],
   "source": [
    "import cv2\n",
    "import numpy as np\n",
    "\n",
    "def onchangeBlue(value):\n",
    "    global b\n",
    "    b = value\n",
    "    cv2.imshow(\"palette\",createImage(b,g,r))\n",
    "    \n",
    "\n",
    "def createImage(b,g,r):\n",
    "    return np.full((500,500,3), (b,g,r), dtype=np.uint8)\n",
    "\n",
    "b,g,r =0,0,0\n",
    "\n",
    "cv2.namedWindow(\"palette\")\n",
    "cv2.createTrackbar(\"Blue\", \"palette\", 55,255, onchangeBlue)\n",
    "cv2.createTrackbar(\"Green\", \"palette\", 0, 255, lambda x:x)\n",
    "cv2.createTrackbar(\"Red\", \"palette\", 0, 255, lambda x:x)\n",
    "\n",
    "while True:\n",
    "    g=cv2.getTrackbarPos(\"Green\",\"palette\")\n",
    "    r=cv2.getTrackbarPos(\"Red\",\"palette\")\n",
    "    \n",
    "    cv2.imshow(\"palette\", createImage(b,g,r))\n",
    "    if cv2.waitKey(33)&0xFF ==ord('q'): #q를 누르면..종료됨\n",
    "        break\n",
    "        \n",
    "cv2.destroyAllWindows()"
   ]
  },
  {
   "cell_type": "code",
   "execution_count": null,
   "id": "e7c7daab",
   "metadata": {},
   "outputs": [],
   "source": []
  }
 ],
 "metadata": {
  "kernelspec": {
   "display_name": "Python 3",
   "language": "python",
   "name": "python3"
  },
  "language_info": {
   "codemirror_mode": {
    "name": "ipython",
    "version": 3
   },
   "file_extension": ".py",
   "mimetype": "text/x-python",
   "name": "python",
   "nbconvert_exporter": "python",
   "pygments_lexer": "ipython3",
   "version": "3.7.10"
  }
 },
 "nbformat": 4,
 "nbformat_minor": 5
}
