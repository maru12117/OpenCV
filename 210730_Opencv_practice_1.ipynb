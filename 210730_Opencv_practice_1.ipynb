{
 "cells": [
  {
   "cell_type": "markdown",
   "id": "e5a03661",
   "metadata": {},
   "source": [
    "## 그레이스케일(GrayScale) 이미지와 히스토그램"
   ]
  },
  {
   "cell_type": "code",
   "execution_count": 3,
   "id": "d8569909",
   "metadata": {},
   "outputs": [
    {
     "ename": "AttributeError",
     "evalue": "module 'cv2.cv2' has no attribute 'destoryAllwindows'",
     "output_type": "error",
     "traceback": [
      "\u001b[1;31m---------------------------------------------------------------------------\u001b[0m",
      "\u001b[1;31mAttributeError\u001b[0m                            Traceback (most recent call last)",
      "\u001b[1;32m<ipython-input-3-c6270776eb63>\u001b[0m in \u001b[0;36m<module>\u001b[1;34m\u001b[0m\n\u001b[0;32m     15\u001b[0m \u001b[0mcv2\u001b[0m\u001b[1;33m.\u001b[0m\u001b[0mimshow\u001b[0m\u001b[1;33m(\u001b[0m\u001b[1;34m\"dst\"\u001b[0m\u001b[1;33m,\u001b[0m \u001b[0mdst\u001b[0m\u001b[1;33m)\u001b[0m\u001b[1;33m\u001b[0m\u001b[1;33m\u001b[0m\u001b[0m\n\u001b[0;32m     16\u001b[0m \u001b[0mcv2\u001b[0m\u001b[1;33m.\u001b[0m\u001b[0mwaitKey\u001b[0m\u001b[1;33m(\u001b[0m\u001b[1;36m0\u001b[0m\u001b[1;33m)\u001b[0m\u001b[1;33m\u001b[0m\u001b[1;33m\u001b[0m\u001b[0m\n\u001b[1;32m---> 17\u001b[1;33m \u001b[0mcv2\u001b[0m\u001b[1;33m.\u001b[0m\u001b[0mdestoryAllwindows\u001b[0m\u001b[1;33m(\u001b[0m\u001b[1;33m)\u001b[0m\u001b[1;33m\u001b[0m\u001b[1;33m\u001b[0m\u001b[0m\n\u001b[0m",
      "\u001b[1;31mAttributeError\u001b[0m: module 'cv2.cv2' has no attribute 'destoryAllwindows'"
     ]
    }
   ],
   "source": [
    "import cv2\n",
    "import numpy as np\n",
    "\n",
    "image  = cv2.imread(\"image1.jfif\") #파일 읽어오고\n",
    "gray = cv2.cvtColor(image, cv2.COLOR_BGR2GRAY) #컬러사진을 그레이스케일로 변형함\n",
    "result = np.zeros((image.shape[0], 256), dtype = np.uint8) #액자 설정\n",
    "\n",
    "hist = cv2.calcHist([image],[0],None, [256],[0, 256]) #히스토그램 만듦\n",
    "cv2.normalize(hist, hist, 0, 255, cv2.NORM_MINMAX)\n",
    "\n",
    "for x, y in enumerate(hist):\n",
    "    cv2.line(result, (int(x), image.shape[0]), (int(x), image.shape[0]-int(y)), 255)\n",
    "    \n",
    "dst = np.hstack([image[:,:,0], result])\n",
    "cv2.imshow(\"dst\", dst)\n",
    "cv2.waitKey(0)\n",
    "cv2.destoryAllwindows()"
   ]
  },
  {
   "cell_type": "markdown",
   "id": "c09a0ba8",
   "metadata": {},
   "source": [
    "## Numpy 데이터"
   ]
  },
  {
   "cell_type": "code",
   "execution_count": 12,
   "id": "e2c74b41",
   "metadata": {},
   "outputs": [
    {
     "data": {
      "text/plain": [
       "array([1, 2, 3, 4])"
      ]
     },
     "execution_count": 12,
     "metadata": {},
     "output_type": "execute_result"
    }
   ],
   "source": [
    "import numpy as np\n",
    "\n",
    "np.array([1,2,3,4])"
   ]
  },
  {
   "cell_type": "code",
   "execution_count": 18,
   "id": "5e83f154",
   "metadata": {},
   "outputs": [
    {
     "data": {
      "text/plain": [
       "array([[1., 0.],\n",
       "       [0., 1.]])"
      ]
     },
     "execution_count": 18,
     "metadata": {},
     "output_type": "execute_result"
    }
   ],
   "source": [
    "np.eye(2,2, k=0)"
   ]
  },
  {
   "cell_type": "code",
   "execution_count": 25,
   "id": "ab23392b",
   "metadata": {},
   "outputs": [
    {
     "name": "stdout",
     "output_type": "stream",
     "text": [
      "2\n",
      "4\n"
     ]
    }
   ],
   "source": [
    "array1=np.array([[[1,2],\n",
    "          [3,4]],\n",
    "         [[5,6],\n",
    "         [7,8]]])\n",
    "\n",
    "for i in array1[0]:\n",
    "    for j in i:\n",
    "        if j %2==0:\n",
    "            print(j)"
   ]
  },
  {
   "cell_type": "markdown",
   "id": "1bbb0ff2",
   "metadata": {},
   "source": [
    "## 이미지 입력"
   ]
  },
  {
   "cell_type": "code",
   "execution_count": 35,
   "id": "34a2eddc",
   "metadata": {},
   "outputs": [
    {
     "name": "stdout",
     "output_type": "stream",
     "text": [
      "2\n",
      "(155, 150)\n",
      "uint8\n"
     ]
    }
   ],
   "source": [
    "import cv2\n",
    "\n",
    "image=cv2.imread(\"image2.jfif\", flags=cv2.IMREAD_REDUCED_GRAYSCALE_2 | cv2.IMREAD_IGNORE_ORIENTATION) #이미지 입력, (3, (331, 508, 3), dtype('uint8'))\n",
    "\n",
    "print(image.ndim) #2 이미지 이기떄문에 2차원 배열\n",
    "print(image.shape) #(166, ,54) 원래는 (331,508,3)이였으나, 크기를 반으로 줄이고, 그레이스케일로 변경하였기 떄문에 채널이 1로 변경\n",
    "print(image.dtype) #uint8"
   ]
  },
  {
   "cell_type": "code",
   "execution_count": 39,
   "id": "ca3aaa5a",
   "metadata": {},
   "outputs": [],
   "source": [
    "cv2.namedWindow(\"mountain\", flags=cv2.WINDOW_FREERATIO) #비율 제한이 없는 경우 이미지를 최대한 확장함\n",
    "cv2.resizeWindow(\"mountain\", 400, 200) #윈도우 크기 변경\n",
    "\n",
    "\n",
    "cv2.imshow(\"mountain\", image) #윈도우 입력\n",
    "cv2.waitKey(0)\n",
    "cv2.destroyAllWindows() #윈도우 닫으면 모든 것은 중단"
   ]
  },
  {
   "cell_type": "code",
   "execution_count": 37,
   "id": "cfc70bbc",
   "metadata": {},
   "outputs": [
    {
     "name": "stdout",
     "output_type": "stream",
     "text": [
      "2\n",
      "(166, 254)\n",
      "uint8\n"
     ]
    }
   ],
   "source": [
    "import cv2\n",
    "\n",
    "image1=cv2.imread(\"image1.jfif\", flags=cv2.IMREAD_REDUCED_GRAYSCALE_2 | cv2.IMREAD_IGNORE_ORIENTATION) #이미지 입력, (3, (331, 508, 3), dtype('uint8'))\n",
    "\n",
    "print(image1.ndim) #2 이미지 이기떄문에 2차원 배열\n",
    "print(image1.shape) #(166, ,54) 원래는 (331,508,3)이였으나, 크기를 반으로 줄이고, 그레이스케일로 변경하였기 떄문에 채널이 1로 변경\n",
    "print(image1.dtype) #uint8"
   ]
  },
  {
   "cell_type": "code",
   "execution_count": 40,
   "id": "d735b811",
   "metadata": {},
   "outputs": [],
   "source": [
    "cv2.namedWindow(\"image1\", flags=cv2.WINDOW_FREERATIO)\n",
    "cv2.resizeWindow(\"image1\", 400, 200) #윈도우 크기 변경\n",
    "\n",
    "\n",
    "cv2.imshow(\"image1\", image1) #윈도우 입력\n",
    "cv2.waitKey(0)\n",
    "cv2.destroyAllWindows() #윈도우 닫으면 모든 것은 중단"
   ]
  },
  {
   "cell_type": "code",
   "execution_count": null,
   "id": "4b126854",
   "metadata": {},
   "outputs": [],
   "source": []
  }
 ],
 "metadata": {
  "kernelspec": {
   "display_name": "Python 3",
   "language": "python",
   "name": "python3"
  },
  "language_info": {
   "codemirror_mode": {
    "name": "ipython",
    "version": 3
   },
   "file_extension": ".py",
   "mimetype": "text/x-python",
   "name": "python",
   "nbconvert_exporter": "python",
   "pygments_lexer": "ipython3",
   "version": "3.7.10"
  }
 },
 "nbformat": 4,
 "nbformat_minor": 5
}
