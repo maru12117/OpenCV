{
 "cells": [
  {
   "cell_type": "code",
   "execution_count": 1,
   "id": "81098b90",
   "metadata": {},
   "outputs": [],
   "source": [
    "import numpy as np"
   ]
  },
  {
   "cell_type": "code",
   "execution_count": 3,
   "id": "a10b52c0",
   "metadata": {},
   "outputs": [
    {
     "data": {
      "text/plain": [
       "array([ 0,  1,  2,  3,  4,  5,  6,  7,  8,  9, 10, 11])"
      ]
     },
     "execution_count": 3,
     "metadata": {},
     "output_type": "execute_result"
    }
   ],
   "source": [
    "array=np.arange(12)\n",
    "array"
   ]
  },
  {
   "cell_type": "code",
   "execution_count": 5,
   "id": "fa37b560",
   "metadata": {},
   "outputs": [
    {
     "data": {
      "text/plain": [
       "array([[[ 0,  1],\n",
       "        [ 2,  3],\n",
       "        [ 4,  5]],\n",
       "\n",
       "       [[ 6,  7],\n",
       "        [ 8,  9],\n",
       "        [10, 11]]])"
      ]
     },
     "execution_count": 5,
     "metadata": {},
     "output_type": "execute_result"
    }
   ],
   "source": [
    "reshape1 = array.reshape(2,3,2)\n",
    "reshape1"
   ]
  },
  {
   "cell_type": "code",
   "execution_count": 10,
   "id": "50ab9c5c",
   "metadata": {},
   "outputs": [
    {
     "data": {
      "text/plain": [
       "array([[ 0,  2,  4,  6,  8, 10],\n",
       "       [ 1,  3,  5,  7,  9, 11]])"
      ]
     },
     "execution_count": 10,
     "metadata": {},
     "output_type": "execute_result"
    }
   ],
   "source": [
    "reshape2 = np.reshape(array, (2,-1), order='F') #2행으로 변경, order='C'는 디폴트 값으로 왼쪽에서 오른쪽으로 order=\"F\"는 위에서 아래\n",
    "reshape2"
   ]
  },
  {
   "cell_type": "markdown",
   "id": "f0e0f3e1",
   "metadata": {},
   "source": [
    "## newaxis함수를 사용하여 배열의 차원을 증가시킴"
   ]
  },
  {
   "cell_type": "code",
   "execution_count": 13,
   "id": "e33830d8",
   "metadata": {},
   "outputs": [
    {
     "data": {
      "text/plain": [
       "array([[0, 1, 2, 3]])"
      ]
     },
     "execution_count": 13,
     "metadata": {},
     "output_type": "execute_result"
    }
   ],
   "source": [
    "array2 = np.arange(4)\n",
    "\n",
    "axis1 = array2[np.newaxis]\n",
    "axis1"
   ]
  },
  {
   "cell_type": "code",
   "execution_count": 15,
   "id": "03022e3b",
   "metadata": {},
   "outputs": [
    {
     "data": {
      "text/plain": [
       "array([[0],\n",
       "       [1],\n",
       "       [2],\n",
       "       [3]])"
      ]
     },
     "execution_count": 15,
     "metadata": {},
     "output_type": "execute_result"
    }
   ],
   "source": [
    "axis2 = array2[:, np.newaxis]\n",
    "axis2"
   ]
  },
  {
   "cell_type": "markdown",
   "id": "9873aa41",
   "metadata": {},
   "source": [
    "## 배열의 차원을 축소시킴"
   ]
  },
  {
   "cell_type": "code",
   "execution_count": 16,
   "id": "64a677f5",
   "metadata": {},
   "outputs": [
    {
     "data": {
      "text/plain": [
       "array([[ 0,  1,  2,  3],\n",
       "       [ 4,  5,  6,  7],\n",
       "       [ 8,  9, 10, 11]])"
      ]
     },
     "execution_count": 16,
     "metadata": {},
     "output_type": "execute_result"
    }
   ],
   "source": [
    "array3 = np.arange(12).reshape(3,-1)\n",
    "array3"
   ]
  },
  {
   "cell_type": "code",
   "execution_count": 18,
   "id": "a7313fe6",
   "metadata": {},
   "outputs": [
    {
     "data": {
      "text/plain": [
       "array([ 0,  4,  8,  1,  5,  9,  2,  6, 10,  3,  7, 11])"
      ]
     },
     "execution_count": 18,
     "metadata": {},
     "output_type": "execute_result"
    }
   ],
   "source": [
    "flatten1=array3.flatten(order=\"F\") #order순으로 flatten으로 만듦(Fortran스타일로 변경)\n",
    "flatten1"
   ]
  },
  {
   "cell_type": "code",
   "execution_count": 20,
   "id": "8ddd5ddc",
   "metadata": {},
   "outputs": [
    {
     "data": {
      "text/plain": [
       "array([ 0,  1,  2,  3,  4,  5,  6,  7,  8,  9, 10, 11])"
      ]
     },
     "execution_count": 20,
     "metadata": {},
     "output_type": "execute_result"
    }
   ],
   "source": [
    "flatten2=array3.ravel() #order 레이아웃을 C스타일로 변경\n",
    "flatten2"
   ]
  },
  {
   "cell_type": "markdown",
   "id": "eed562fa",
   "metadata": {},
   "source": [
    "## 배열 병합(stack()) 및 분리(split())"
   ]
  },
  {
   "cell_type": "code",
   "execution_count": 23,
   "id": "b59f743a",
   "metadata": {},
   "outputs": [
    {
     "name": "stdout",
     "output_type": "stream",
     "text": [
      "[[0 1 2]\n",
      " [3 4 5]]\n",
      "[[ 6  7  8]\n",
      " [ 9 10 11]]\n"
     ]
    }
   ],
   "source": [
    "array1 = np.arange(6).reshape(2,3)\n",
    "array2 = np.arange(6,12).reshape(2,3)\n",
    "print(array1)\n",
    "print(array2)"
   ]
  },
  {
   "cell_type": "code",
   "execution_count": 26,
   "id": "430e4463",
   "metadata": {},
   "outputs": [
    {
     "name": "stdout",
     "output_type": "stream",
     "text": [
      "[[[ 0  1  2]\n",
      "  [ 3  4  5]]\n",
      "\n",
      " [[ 6  7  8]\n",
      "  [ 9 10 11]]]\n",
      "(2, 2, 3)\n"
     ]
    }
   ],
   "source": [
    "merge1 = np.stack([array1, array2], axis=0) #1번쨰 차원을 기준으로 삽입\n",
    "print(merge1)\n",
    "print(merge1.shape)"
   ]
  },
  {
   "cell_type": "code",
   "execution_count": 29,
   "id": "47181f64",
   "metadata": {},
   "outputs": [
    {
     "name": "stdout",
     "output_type": "stream",
     "text": [
      "[[[ 0  6]\n",
      "  [ 1  7]\n",
      "  [ 2  8]]\n",
      "\n",
      " [[ 3  9]\n",
      "  [ 4 10]\n",
      "  [ 5 11]]]\n",
      "(2, 3, 2)\n"
     ]
    }
   ],
   "source": [
    "merge2 = np.stack([array1, array2], axis=-1) #맨 마지막번쨰 차원을 기준으로 삽입함\n",
    "print(merge2)\n",
    "print(merge2.shape)"
   ]
  },
  {
   "cell_type": "code",
   "execution_count": 31,
   "id": "31fb3cee",
   "metadata": {},
   "outputs": [
    {
     "data": {
      "text/plain": [
       "array([[0, 1, 2, 3, 4],\n",
       "       [5, 6, 7, 8, 9]])"
      ]
     },
     "execution_count": 31,
     "metadata": {},
     "output_type": "execute_result"
    }
   ],
   "source": [
    "array = np.arange(10).reshape(2,5)\n",
    "array"
   ]
  },
  {
   "cell_type": "code",
   "execution_count": 33,
   "id": "3f983675",
   "metadata": {},
   "outputs": [
    {
     "data": {
      "text/plain": [
       "[array([[0, 1, 2, 3, 4]]), array([[5, 6, 7, 8, 9]])]"
      ]
     },
     "execution_count": 33,
     "metadata": {},
     "output_type": "execute_result"
    }
   ],
   "source": [
    "detach1 = np.split(array, 2, axis=0) #indeX의 개수만큼 나눔.\n",
    "detach1"
   ]
  },
  {
   "cell_type": "code",
   "execution_count": 36,
   "id": "eecc34c3",
   "metadata": {},
   "outputs": [
    {
     "data": {
      "text/plain": [
       "[array([[0, 1],\n",
       "        [5, 6]]),\n",
       " array([[2],\n",
       "        [7]]),\n",
       " array([[3, 4],\n",
       "        [8, 9]])]"
      ]
     },
     "execution_count": 36,
     "metadata": {},
     "output_type": "execute_result"
    }
   ],
   "source": [
    "detach2 = np.split(array, (2,3), axis=1)#array[2:3]을 기준으로 나눔\n",
    "detach2"
   ]
  },
  {
   "cell_type": "code",
   "execution_count": 37,
   "id": "bda09383",
   "metadata": {},
   "outputs": [
    {
     "data": {
      "text/plain": [
       "matrix([[0, 1, 2, 3, 4],\n",
       "        [5, 6, 7, 8, 9]])"
      ]
     },
     "execution_count": 37,
     "metadata": {},
     "output_type": "execute_result"
    }
   ],
   "source": [
    "np.mat(array) #매트릭스함수로 변경"
   ]
  },
  {
   "cell_type": "code",
   "execution_count": 39,
   "id": "f5feea74",
   "metadata": {},
   "outputs": [
    {
     "data": {
      "text/plain": [
       "matrix([[0, 1, 2, 3, 4, 5, 6, 7, 8, 9]])"
      ]
     },
     "execution_count": 39,
     "metadata": {},
     "output_type": "execute_result"
    }
   ],
   "source": [
    "array3 = np.arange(10)\n",
    "np.mat(array3)"
   ]
  },
  {
   "cell_type": "code",
   "execution_count": null,
   "id": "8fe86c31",
   "metadata": {},
   "outputs": [],
   "source": []
  }
 ],
 "metadata": {
  "kernelspec": {
   "display_name": "Python 3",
   "language": "python",
   "name": "python3"
  },
  "language_info": {
   "codemirror_mode": {
    "name": "ipython",
    "version": 3
   },
   "file_extension": ".py",
   "mimetype": "text/x-python",
   "name": "python",
   "nbconvert_exporter": "python",
   "pygments_lexer": "ipython3",
   "version": "3.7.10"
  }
 },
 "nbformat": 4,
 "nbformat_minor": 5
}
