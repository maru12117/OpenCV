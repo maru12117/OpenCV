{
 "cells": [
  {
   "cell_type": "markdown",
   "id": "96c48ec0",
   "metadata": {},
   "source": [
    "## 마우스 콜백함수 cv2.setMouseCallback"
   ]
  },
  {
   "cell_type": "code",
   "execution_count": 16,
   "id": "7dd0651b",
   "metadata": {},
   "outputs": [],
   "source": [
    "import cv2\n",
    "import numpy as np\n",
    "\n",
    "def mouse_event(event, x, y, flags, param): #마우스 콜백함수 고정\n",
    "    global radius\n",
    "    \n",
    "    if event ==cv2.EVENT_LBUTTONDOWN:\n",
    "        cv2.circle(param, (x,y), radius, (255,0,0),2)\n",
    "        cv2.imshow(\"draw\", src)\n",
    "        \n",
    "    elif event ==cv2.EVENT_MOUSEWHEEL:\n",
    "        if flags>0:\n",
    "            radius +=1\n",
    "        elif flags<0:\n",
    "            radius -=1\n",
    "    \n",
    "radius = 3\n",
    "src = np.full((500, 500, 3), 255, dtype = np.uint8)\n",
    "\n",
    "cv2.imshow(\"draw\", src)\n",
    "cv2.setMouseCallback(\"draw\", mouse_event, src) #마우스 콜백함수로 이동\n",
    "cv2.waitKey()\n",
    "cv2.destroyAllWindows()"
   ]
  },
  {
   "cell_type": "markdown",
   "id": "4d5b7d68",
   "metadata": {},
   "source": [
    "## 동영상 출력 cv2.VideoCapture(filename)"
   ]
  },
  {
   "cell_type": "code",
   "execution_count": 21,
   "id": "8011d9b6",
   "metadata": {},
   "outputs": [],
   "source": [
    "import cv2\n",
    "\n",
    "capture  = cv2.VideoCapture(\"thailand.mp4\")\n",
    "\n",
    "while True:\n",
    "    ret, frame = capture.read()\n",
    "    \n",
    "    #현재 프레임의 수가 동영상의 총 프레임수와 동일 할 때 동영상 파일을 다시 읽어 capture 변수에 할당됨\n",
    "    if (capture.get(cv2.CAP_PROP_POS_FRAMES) == capture.get(cv2.CAP_PROP_FRAME_COUNT)): \n",
    "        capture.open(\"thailand.mp4\")\n",
    "        \n",
    "    cv2.imshow(\"VideoFrame\", frame)\n",
    "    if cv2.waitKey(50) == ord('q'):\n",
    "        break\n",
    "        \n",
    "capture.release() #동영상 파일을 닫고 메모리를 해제\n",
    "cv2.destroyAllWindows()"
   ]
  },
  {
   "cell_type": "markdown",
   "id": "1a02db5e",
   "metadata": {},
   "source": [
    "## 직선 그리기"
   ]
  },
  {
   "cell_type": "code",
   "execution_count": 48,
   "id": "8c10cb9d",
   "metadata": {},
   "outputs": [],
   "source": [
    "import cv2\n",
    "\n",
    "image=cv2.imread(\"image2.jfif\")\n",
    "\n",
    "cv2.line(image, (50,50),(200,200), (0,0,0), thickness=3, shift=None)\n",
    "cv2.imshow(\"image\", image)\n",
    "cv2.waitKey(0)\n",
    "cv2.destroyAllWindows()"
   ]
  },
  {
   "cell_type": "markdown",
   "id": "2717dcc9",
   "metadata": {},
   "source": [
    "## 사각형 그리기"
   ]
  },
  {
   "cell_type": "code",
   "execution_count": 10,
   "id": "a47325ad",
   "metadata": {},
   "outputs": [],
   "source": [
    "import cv2\n",
    "\n",
    "image1=cv2.imread(\"image1.jfif\")\n",
    "\n",
    "cv2.rectangle(image1, (50,50),(200,200),(120,180,150), thickness=3, lineType=2) #왼쪽 끝모서리에서 오른쪽 하단 까지의 점을 찍어서 만듦\n",
    "\n",
    "cv2.imshow(\"mountain\", image1)\n",
    "cv2.waitKey(0)\n",
    "cv2.destroyAllWindows()"
   ]
  },
  {
   "cell_type": "markdown",
   "id": "839ff7c7",
   "metadata": {},
   "source": [
    "## 원 그리기"
   ]
  },
  {
   "cell_type": "code",
   "execution_count": 18,
   "id": "c4cedea0",
   "metadata": {},
   "outputs": [],
   "source": [
    "import cv2\n",
    "\n",
    "image2=cv2.imread(\"image.jfif\")\n",
    "\n",
    "cv2.circle(image2, (150,150),100, (0,0,255), thickness=3)\n",
    "cv2.imshow(\"circle\", image2)\n",
    "cv2.waitKey(0)\n",
    "cv2.destroyAllWindows()"
   ]
  },
  {
   "cell_type": "markdown",
   "id": "234612ae",
   "metadata": {},
   "source": [
    "## 예제\n",
    "\n",
    "콜백함수를 활용해서..image위에 직선을 그릴 수 있도록 표현해보자"
   ]
  },
  {
   "cell_type": "code",
   "execution_count": 19,
   "id": "748c2d29",
   "metadata": {},
   "outputs": [],
   "source": [
    "import cv2\n",
    "\n",
    "image3=cv2.imread(\"image.jfif\")\n",
    "\n",
    "def mouse_event(event, x, y, flags, param):\n",
    "    \n",
    "    if event==cv2.EVENT_LBUTTONDOWN:\n",
    "        global x1, y1 #전역변수 선언하고...\n",
    "        x1=x\n",
    "        y1=y\n",
    "        \n",
    "    elif event==cv2.EVENT_LBUTTONUP:\n",
    "        y2=y\n",
    "        x2=x\n",
    "        cv2.line(image3, (x1,y1), (x2,y2), (0,0,255),thickness=3) #전역변수도 가져와서 할당함.\n",
    "        cv2.imshow(\"mountain\", image3)\n",
    "    \n",
    "cv2.imshow(\"mountain\", image3)\n",
    "cv2.setMouseCallback(\"mountain\", mouse_event, image3)\n",
    "cv2.waitKey()\n",
    "cv2.destroyAllWindows()"
   ]
  },
  {
   "cell_type": "code",
   "execution_count": 20,
   "id": "977e97c9",
   "metadata": {},
   "outputs": [],
   "source": [
    "# 사각형 만들기\n",
    "\n",
    "import cv2\n",
    "\n",
    "image3=cv2.imread(\"image.jfif\")\n",
    "\n",
    "def mouse_event(event, x, y, flags, param):\n",
    "    \n",
    "    if event==cv2.EVENT_LBUTTONDOWN:\n",
    "        global x1, y1 #전역변수 선언하고...\n",
    "        x1=x\n",
    "        y1=y\n",
    "        \n",
    "    elif event==cv2.EVENT_LBUTTONUP:\n",
    "        y2=y\n",
    "        x2=x\n",
    "        cv2.rectangle(image3, (x1,y1), (x2,y2), (0,0,255),thickness=3) #전역변수도 가져와서 할당함.\n",
    "        cv2.imshow(\"mountain\", image3)\n",
    "    \n",
    "cv2.imshow(\"mountain\", image3)\n",
    "cv2.setMouseCallback(\"mountain\", mouse_event, image3)\n",
    "cv2.waitKey()\n",
    "cv2.destroyAllWindows()"
   ]
  },
  {
   "cell_type": "markdown",
   "id": "3c637d96",
   "metadata": {},
   "source": [
    "## 호 그리기"
   ]
  },
  {
   "cell_type": "code",
   "execution_count": 28,
   "id": "b1501a79",
   "metadata": {},
   "outputs": [],
   "source": [
    "import cv2\n",
    "\n",
    "image4=cv2.imread(\"image1.jfif\")\n",
    "\n",
    "cv2.ellipse(image4, (50,50),(100, 50), 360, 0, 90, (0,0,255))\n",
    "\n",
    "cv2.imshow(\"ellipse\", image4)\n",
    "cv2.waitKey()\n",
    "cv2.destroyAllWindows()"
   ]
  },
  {
   "cell_type": "markdown",
   "id": "50c68c27",
   "metadata": {},
   "source": [
    "## 내부가 채워지지 않은 다각형 그리기"
   ]
  },
  {
   "cell_type": "code",
   "execution_count": 48,
   "id": "4cb67a5c",
   "metadata": {},
   "outputs": [],
   "source": [
    "import cv2\n",
    "import numpy as np\n",
    "\n",
    "image4 = np.full((500,500,3), (150,0,0), dtype=np.uint8) #빈 윈도우를 만들기 위해서..빈칸을 만듦\n",
    "\n",
    "pt1 = np.array([[100,300],[200, 300],[100, 250]])\n",
    "\n",
    "cv2.polylines(image4, [pt1],True, (0,0,255)) #isClosed를 지정해야함Ture or False\n",
    "\n",
    "cv2.imshow(\"bin\", image4)\n",
    "cv2.waitKey()\n",
    "cv2.destroyAllWindows()"
   ]
  },
  {
   "cell_type": "markdown",
   "id": "53886fff",
   "metadata": {},
   "source": [
    "## 내부가 채워진 다각형 그리기"
   ]
  },
  {
   "cell_type": "code",
   "execution_count": 43,
   "id": "df54f081",
   "metadata": {},
   "outputs": [],
   "source": [
    "import cv2\n",
    "import numpy as np\n",
    "\n",
    "image5 = np.full((500,500,3), 255, dtype=np.uint8) #빈 윈도우를 만들기 위해서..빈칸을 만듦\n",
    "\n",
    "pt1 = np.array([[100,300],[200, 300],[100, 250]])\n",
    "\n",
    "cv2.fillPoly(image5, [pt1], (0,0,255))\n",
    "\n",
    "cv2.imshow(\"bin\", image5)\n",
    "cv2.waitKey()\n",
    "cv2.destroyAllWindows()"
   ]
  },
  {
   "cell_type": "markdown",
   "id": "5f9e6916",
   "metadata": {},
   "source": [
    "## 문자 그리기"
   ]
  },
  {
   "cell_type": "code",
   "execution_count": 59,
   "id": "ab9bed8f",
   "metadata": {},
   "outputs": [
    {
     "name": "stdout",
     "output_type": "stream",
     "text": [
      "입력해주세요: openCV!!!2\n"
     ]
    }
   ],
   "source": [
    "import cv2\n",
    "import numpy as np\n",
    "\n",
    "background=np.full((500, 500, 3), 255, dtype=np.uint8)\n",
    "\n",
    "text1 = input(\"입력해주세요: \")\n",
    "\n",
    "cv2.putText(background, text1, (100,100), cv2.FONT_HERSHEY_COMPLEX| cv2.FONT_ITALIC, 2, (255,0,0)) #좌측 상단 모서리를 기준으로\n",
    "\n",
    "cv2.imshow(\"text\", background)\n",
    "cv2.waitKey()\n",
    "cv2.destroyAllWindows()"
   ]
  },
  {
   "cell_type": "code",
   "execution_count": null,
   "id": "464fea79",
   "metadata": {},
   "outputs": [],
   "source": []
  }
 ],
 "metadata": {
  "kernelspec": {
   "display_name": "Python 3",
   "language": "python",
   "name": "python3"
  },
  "language_info": {
   "codemirror_mode": {
    "name": "ipython",
    "version": 3
   },
   "file_extension": ".py",
   "mimetype": "text/x-python",
   "name": "python",
   "nbconvert_exporter": "python",
   "pygments_lexer": "ipython3",
   "version": "3.7.10"
  }
 },
 "nbformat": 4,
 "nbformat_minor": 5
}
