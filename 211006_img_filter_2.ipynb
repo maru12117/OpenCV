{
 "cells": [
  {
   "cell_type": "code",
   "execution_count": 2,
   "id": "6775803d",
   "metadata": {},
   "outputs": [],
   "source": [
    "import cv2\n",
    "import numpy as np"
   ]
  },
  {
   "cell_type": "markdown",
   "id": "98705be2",
   "metadata": {},
   "source": [
    "## 모폴로지\n",
    "\n",
    "모폴로지는 형태학이라는 뜻으로 영상 분야에서는 노이즈 제거, 구멍 메꾸기, 연결되지 않은 경계 이어붙이기 등 형태학적 관점에서의 영상 연산을 말합니다.\n",
    "\n",
    "모폴로지는 주로 형태를 다루는 연산이므로 바이너리 이미지를 대상으로 합니다\n",
    "대표적인 연산은 침식과 팽창이며, 이 둘을 결합한 열리마과 닫힘 연산이 있음"
   ]
  },
  {
   "cell_type": "code",
   "execution_count": 12,
   "id": "c20febca",
   "metadata": {},
   "outputs": [],
   "source": [
    "## 침식 연산\n",
    "\n",
    "img = cv2.imread(\"./img/morph_dot.png\")\n",
    "\n",
    "k = cv2.getStructuringElement(cv2.MORPH_RECT, (4,4))\n",
    "erosion_morph_rect=cv2.erode(img, k) #침식 연산 작용\n",
    "\n",
    "k = cv2.getStructuringElement(cv2.MORPH_ELLIPSE, (3,3))\n",
    "erosion_morph_ellipse=cv2.erode(img, k) #침식 연산 작용\n",
    "\n",
    "k = cv2.getStructuringElement(cv2.MORPH_CROSS, (3,3))\n",
    "erosion_morph_cross=cv2.erode(img, k) #침식 연산 작용\n",
    "\n",
    "merge = np.hstack((img, erosion_morph_rect, erosion_morph_ellipse, erosion_morph_cross))\n",
    "cv2.imshow(\"Erode\", merge)\n",
    "cv2.waitKey(0)\n",
    "cv2.destroyAllWindows()"
   ]
  },
  {
   "cell_type": "code",
   "execution_count": 11,
   "id": "4856aa13",
   "metadata": {},
   "outputs": [],
   "source": [
    "## 팽창 연산 (1로 채워진 영역이 온전히 덮이지 않으면 1로 채워넣고..) 1로 채워넣는다가...흰색으로 채운다..\n",
    "\n",
    "img = cv2.imread(\"./img/morph_hole.png\")\n",
    "\n",
    "\n",
    "k = cv2.getStructuringElement(cv2.MORPH_RECT, (4,4))\n",
    "erosion_morph_rect=cv2.dilate(img, k) #팽창연산\n",
    "\n",
    "k = cv2.getStructuringElement(cv2.MORPH_ELLIPSE, (3,3))\n",
    "erosion_morph_ellipse=cv2.dilate(img, k) \n",
    "\n",
    "k = cv2.getStructuringElement(cv2.MORPH_CROSS, (3,3))\n",
    "erosion_morph_cross=cv2.dilate(img, k) \n",
    "\n",
    "\n",
    "merge = np.hstack((img, erosion_morph_rect, erosion_morph_ellipse, erosion_morph_cross))\n",
    "cv2.imshow(\"Dilation\", merge)\n",
    "cv2.waitKey(0)\n",
    "cv2.destroyAllWindows()"
   ]
  },
  {
   "cell_type": "code",
   "execution_count": 16,
   "id": "64340da2",
   "metadata": {},
   "outputs": [],
   "source": [
    "## 열림 닫힘...\n",
    "\n",
    "img1 = cv2.imread(\"./img/morph_dot.png\", cv2.IMREAD_GRAYSCALE)\n",
    "img2 = cv2.imread(\"./img/morph_hole.png\", cv2.IMREAD_GRAYSCALE)\n",
    "\n",
    "k = cv2.getStructuringElement(cv2.MORPH_RECT, (5,5))\n",
    "opening = cv2.morphologyEx(img1, cv2.MORPH_OPEN, k)\n",
    "closing  = cv2.morphologyEx(img2, cv2.MORPH_CLOSE, k)\n",
    "\n",
    "merge1 = np.hstack((img1, opening))\n",
    "merge2 = np.hstack((img2, closing))\n",
    "merge3= np.vstack((merge1, merge2))\n",
    "cv2.imshow(\"merge\", merge3)\n",
    "cv2.waitKey(0)\n",
    "cv2.destroyAllWindows()"
   ]
  },
  {
   "cell_type": "code",
   "execution_count": 19,
   "id": "666ecb43",
   "metadata": {},
   "outputs": [],
   "source": [
    "## 모폴로지 그라디언트(경계값만..출력) = 경계검출\n",
    "\n",
    "img = cv2.imread(\"./img/morphological.png\")\n",
    "\n",
    "k = cv2.getStructuringElement(cv2.MORPH_RECT, (3,3))\n",
    "gradient=cv2.morphologyEx(img, cv2.MORPH_GRADIENT, k)\n",
    "merged = np.hstack((img,gradient))\n",
    "\n",
    "cv2.imshow(\"merge\", merged)\n",
    "cv2.waitKey(0)\n",
    "cv2.destroyAllWindows()"
   ]
  },
  {
   "cell_type": "code",
   "execution_count": 23,
   "id": "646f09e7",
   "metadata": {},
   "outputs": [],
   "source": [
    "## 모폴로지 탑햇(원본- 열림) :밝기 값이 크게 튀는 영역을 강조할 수 있음\n",
    "## 모폴로지 블랙햇(닫힘 - 열림) : 어두운 부분을 강조함\n",
    "\n",
    "img = cv2.imread(\"./img/moon_gray.jpg\")\n",
    "\n",
    "k = cv2.getStructuringElement(cv2.MORPH_RECT, (5,5)) #커널 생성..\n",
    "\n",
    "tophat = cv2.morphologyEx(img, cv2.MORPH_TOPHAT, k) #모폴로지 탑햇\n",
    "blackhat = cv2.morphologyEx(img, cv2.MORPH_BLACKHAT,k) #모폴로지 블랙햇\n",
    "\n",
    "merge = np.hstack((img, tophat, blackhat))\n",
    "cv2.imshow(\"merge\", merge)\n",
    "cv2.waitKey(0)\n",
    "cv2.destroyAllWindows()"
   ]
  },
  {
   "cell_type": "markdown",
   "id": "e8af2a11",
   "metadata": {},
   "source": [
    "# 이미지 피라미드\n",
    "\n",
    "영상의 크기를 단계적으로 축소 또는 확대하여 피라미드처럼 쌓아 놓는 것을 말함"
   ]
  },
  {
   "cell_type": "code",
   "execution_count": 28,
   "id": "35da54cd",
   "metadata": {},
   "outputs": [],
   "source": [
    "img = cv2.imread(\"./img/girl.jpg\")\n",
    "\n",
    "smaller=cv2.pyrDown(img) # 가우시안 이미지 피라미드 축소\n",
    "bigger = cv2.pyrUp(img)\n",
    "bigger_small=cv2.pyrDown(bigger) #이미지 영상을 크게했다가..다시 작게해서 원본 영상으로 돌아오는 것이 불가능함\n",
    "\n",
    "cv2.imshow(\"img\", img)\n",
    "cv2.imshow(\"smaller\", smaller)\n",
    "cv2.imshow(\"bigger\", bigger)\n",
    "cv2.imshow(\"bigger_small\", bigger_small)\n",
    "cv2.waitKey(0)\n",
    "cv2.destroyAllWindows()"
   ]
  },
  {
   "cell_type": "code",
   "execution_count": 29,
   "id": "5d73b9cb",
   "metadata": {},
   "outputs": [],
   "source": [
    "## 라플라이사인 피라미드로 영상 복원하기(다시 작게해서 원본 영상으로 돌아오는 것이 불가능하기때문에..)\n",
    "\n",
    "img = cv2.imread(\"./img/taekwonv1.jpg\")\n",
    "\n",
    "smaller = cv2.pyrDown(img)\n",
    "bigger = cv2.pyrUp(smaller) #축소한 영상을 가우시안 피라미드로 확대함\n",
    "\n",
    "#원본에서 확대한 영상을 빼기(라플라시안)\n",
    "laplacian = cv2.subtract(img, bigger)\n",
    "## 확대한 영상에 라플라시안 영상을 더해서 복원함\n",
    "restored = bigger + laplacian\n",
    "\n",
    "merged = np.hstack((img, laplacian, bigger, restored))\n",
    "cv2.imshow(\"merged\", merged)\n",
    "cv2.waitKey(0)\n",
    "cv2.destroyAllWindows()"
   ]
  },
  {
   "cell_type": "markdown",
   "id": "44326380",
   "metadata": {},
   "source": [
    "# 실전 워크숍(모자이크 처리2)"
   ]
  },
  {
   "cell_type": "code",
   "execution_count": 35,
   "id": "e6ea4908",
   "metadata": {},
   "outputs": [],
   "source": [
    "ksize = 30\n",
    "win_title = \"mosaic\"\n",
    "img = cv2.imread(\"./img/taekwonv1.jpg\")\n",
    "\n",
    "while True:\n",
    "    x,y,w,h = cv2.selectROI(win_title, img, False)\n",
    "    if w>0 and h>0:\n",
    "        img1=img.copy()\n",
    "        roi = img1[y:y+h, x:x+w]\n",
    "        roi=cv2.blur(roi, (ksize, ksize)) #ksize사이즈만큼 블러처리함\n",
    "        img1[y:y+h, x:x+w] = roi\n",
    "        merged= np.hstack((img, img1))\n",
    "        cv2.imshow(\"merge\", merged)\n",
    "    else: \n",
    "        break\n",
    "        \n",
    "cv2.waitKey(0)\n",
    "cv2.destroyAllWindows()"
   ]
  },
  {
   "cell_type": "code",
   "execution_count": 11,
   "id": "e28646ae",
   "metadata": {},
   "outputs": [],
   "source": [
    "## 스케치 효과 카메라\n",
    "import cv2\n",
    "import numpy as np\n",
    "cap = cv2.VideoCapture(0)\n",
    "while cap.isOpened():\n",
    "    rat, frame=cap.read() #프레임 읽기\n",
    "    frame=cv2.resize(frame, None, fx=0.5, fy=0.5, interpolation=cv2.INTER_AREA)\n",
    "    if cv2.waitKey(1) ==27:\n",
    "        break\n",
    "    img_gray=cv2.cvtColor(frame, cv2.COLOR_BGR2GRAY)\n",
    "    img_gray=cv2.GaussianBlur(img_gray, (9,9), 0) #잡음제거를 위한 가우시안 필터\n",
    "    edges=cv2.Laplacian(img_gray, -1, None, 5) # 라플레시안 필터를 엣지만 검출(경계선 검출)\n",
    "    \n",
    "    ret, sketch=cv2.threshold(edges, 70,255, cv2.THRESH_BINARY_INV)\n",
    "    \n",
    "    #경계선 강조를 위한 팽창 연산\n",
    "    kernel=cv2.getStructuringElement(cv2.MORPH_CROSS, (3,3))\n",
    "    sketch1=cv2.erode(sketch, kernel)\n",
    "    \n",
    "    sketch1 = cv2.medianBlur(sketch1,5) #자연스럽게 하기위한 블러 필터 적용\n",
    "    img_sketch=cv2.cvtColor(sketch1, cv2.COLOR_GRAY2BGR)\n",
    "    \n",
    "    # 컬러 이미지 선명선을 없애기 윟ㄴ 평균 블러 필터 적용\n",
    "    img_paint=cv2.blur(frame, (10,10))\n",
    "    img_paint = cv2.bitwise_and(frame, img_sketch) #컬러영상과 스케치영상을 합성함.\n",
    "    \n",
    "    merged = np.hstack((frame, img_sketch, img_paint ))\n",
    "    cv2.imshow(\"img_sketch\",merged)\n",
    "    #cv2.imshow(\"sketch1\", sketch)\n",
    "    #cv2.imshow(\"edge\", edges) #경계선만 검출함\n",
    "\n",
    "    \n",
    "cap.release()\n",
    "cv2.destroyAllWindows()"
   ]
  },
  {
   "cell_type": "code",
   "execution_count": 21,
   "id": "12288343",
   "metadata": {},
   "outputs": [],
   "source": [
    "import cv2\n",
    "import numpy as np\n",
    "cap = cv2.VideoCapture(0)\n",
    "while cap.isOpened():\n",
    "    rat, frame=cap.read() #프레임 읽기\n",
    "    frame=cv2.resize(frame, None, fx=0.5, fy=0.5, interpolation=cv2.INTER_AREA)\n",
    "    if cv2.waitKey(1) ==27:\n",
    "        break\n",
    "    #img_sketch, color=cv2.pencilSketch(frame)\n",
    "    #img_sketch=cv2.stylization(frame)\n",
    "    #img_sketch = cv2.detailEnhance(frame)\n",
    "    img_sketch=cv2.edgePreservingFilter(frame)\n",
    "    \n",
    "    #merged = np.hstack((frame, img_sketch))\n",
    "    cv2.imshow(\"img_sketch\",img_sketch)\n",
    "cap.release()\n",
    "cv2.destroyAllWindows()"
   ]
  },
  {
   "cell_type": "code",
   "execution_count": null,
   "id": "b7a88bdb",
   "metadata": {},
   "outputs": [],
   "source": []
  }
 ],
 "metadata": {
  "kernelspec": {
   "display_name": "Python 3",
   "language": "python",
   "name": "python3"
  },
  "language_info": {
   "codemirror_mode": {
    "name": "ipython",
    "version": 3
   },
   "file_extension": ".py",
   "mimetype": "text/x-python",
   "name": "python",
   "nbconvert_exporter": "python",
   "pygments_lexer": "ipython3",
   "version": "3.7.10"
  }
 },
 "nbformat": 4,
 "nbformat_minor": 5
}
