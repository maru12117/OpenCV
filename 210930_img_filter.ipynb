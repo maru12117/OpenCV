{
 "cells": [
  {
   "cell_type": "markdown",
   "id": "4c79d141",
   "metadata": {},
   "source": [
    "# 영상 필터"
   ]
  },
  {
   "cell_type": "code",
   "execution_count": 20,
   "id": "ef7ab638",
   "metadata": {},
   "outputs": [
    {
     "name": "stdout",
     "output_type": "stream",
     "text": [
      "kernel2:  [[0.04 0.04 0.04 0.04 0.04]\n",
      " [0.04 0.04 0.04 0.04 0.04]\n",
      " [0.04 0.04 0.04 0.04 0.04]\n",
      " [0.04 0.04 0.04 0.04 0.04]\n",
      " [0.04 0.04 0.04 0.04 0.04]]\n"
     ]
    }
   ],
   "source": [
    "# 평균값을 적용하여 이미지를 흐릿하게 함\n",
    "import cv2\n",
    "import numpy as np\n",
    "\n",
    "img = cv2.imread(\"./img/girl.jpg\")\n",
    "\n",
    "kernel1 = np.array([[0.04, 0.04, 0.04, 0.04, 0.04],\n",
    "                  [0.04, 0.04, 0.04, 0.04, 0.04],\n",
    "                  [0.04, 0.04, 0.04, 0.04, 0.04],\n",
    "                  [0.04,0.04, 0.04, 0.04, 0.04],\n",
    "                  [0.04,0.04,0.04,0.04,0.04]])\n",
    "kernel2 = np.ones((5,5))/5**2\n",
    "print(\"kernel2: \", kernel2)\n",
    "blured1 = cv2.filter2D(img, -1, kernel1)\n",
    "blured2 = cv2.filter2D(img, -1, kernel2)\n",
    "merged=np.hstack((img, blured1, blured2))\n",
    "cv2.imshow(\"merged\", merged)\n",
    "cv2.waitKey(0)\n",
    "cv2.destroyAllWindows()"
   ]
  },
  {
   "cell_type": "code",
   "execution_count": 18,
   "id": "b4b0bd0c",
   "metadata": {},
   "outputs": [],
   "source": [
    "## 직접 커널을 생성하지 않고, 평균 블러를 할 수 있도록 하는 함수 사용\n",
    "\n",
    "img = cv2.imread(\"./img/taekwonv1.jpg\")\n",
    "\n",
    "#blur함수 사용\n",
    "blur1 = cv2.blur(img, (10,10))\n",
    "#boxFilter함수 사용\n",
    "blur2 = cv2.boxFilter(img, -1, (10,10))\n",
    "\n",
    "merged=np.hstack((img, blur1, blur2))\n",
    "cv2.imshow(\"merged\", merged)\n",
    "cv2.waitKey(0)\n",
    "cv2.destroyAllWindows()"
   ]
  },
  {
   "cell_type": "code",
   "execution_count": 50,
   "id": "ca18b958",
   "metadata": {},
   "outputs": [
    {
     "name": "stdout",
     "output_type": "stream",
     "text": [
      "k1: [[0.0625 0.125  0.0625]\n",
      " [0.125  0.25   0.125 ]\n",
      " [0.0625 0.125  0.0625]]\n",
      "k2: [[0.25]\n",
      " [0.5 ]\n",
      " [0.25]]\n",
      "k2.T: [[0.25 0.5  0.25]]\n"
     ]
    }
   ],
   "source": [
    "##  가우시안 블러\n",
    "\n",
    "img = cv2.imread(\"./img/gaussian_noise.jpg\")\n",
    "k1 = np.array([[1,2,1],\n",
    "              [2,4,2],\n",
    "              [1,2,1]]) *(1/16)\n",
    "\n",
    "blur1 = cv2.filter2D(img, -1, k1)\n",
    "print(\"k1:\", k1)\n",
    "\n",
    "# 가우시안 커널을 API로 얻어서 블러링\n",
    "k2=cv2.getGaussianKernel(3,0)\n",
    "blur2=cv2.filter2D(img, -1, k2*k2.T)\n",
    "print(\"k2:\", k2)\n",
    "print(\"k2.T:\", k2.T)\n",
    "\n",
    "#가우시안 블러 API로 얻어서 블러링\n",
    "blur3=cv2.GaussianBlur(img, (3,3), 0)\n",
    "\n",
    "merged=np.hstack((img, blur1, blur2, blur3))\n",
    "cv2.imshow(\"merged\", merged)\n",
    "cv2.waitKey(0)\n",
    "cv2.destroyAllWindows()"
   ]
  },
  {
   "cell_type": "code",
   "execution_count": 35,
   "id": "08e30ed1",
   "metadata": {},
   "outputs": [],
   "source": [
    "# 미디언 블러링 (중간 값을 대상 픽셀의 값으로 선택하는 미디언 블러링)\n",
    "\n",
    "img = cv2.imread(\"./img/salt_pepper_noise.jpg\")\n",
    "\n",
    "#미디언 블러 적용\n",
    "blur = cv2.medianBlur(img, 25)\n",
    "\n",
    "merged=np.hstack((img, blur))\n",
    "cv2.imshow(\"merged\", merged)\n",
    "cv2.waitKey(0)\n",
    "cv2.destroyAllWindows()"
   ]
  },
  {
   "cell_type": "code",
   "execution_count": 44,
   "id": "9d263303",
   "metadata": {},
   "outputs": [],
   "source": [
    "## 바이레터럴 필터와 가우시안 필터 비교\n",
    "\n",
    "img = cv2.imread(\"./img/gaussian_noise.jpg\")\n",
    "\n",
    "#가우시안\n",
    "blur1 = cv2.GaussianBlur(img, (5,5), 0)\n",
    "\n",
    "#바이레터럴 필터\n",
    "blur2 = cv2.bilateralFilter(img, 5, 75, 75)\n",
    "\n",
    "merged=np.hstack((img, blur1, blur2))\n",
    "cv2.imshow(\"merged\", merged)\n",
    "cv2.waitKey(0)\n",
    "cv2.destroyAllWindows()"
   ]
  },
  {
   "cell_type": "markdown",
   "id": "937bf6d8",
   "metadata": {},
   "source": [
    "## 기본 경계검출"
   ]
  },
  {
   "cell_type": "code",
   "execution_count": 60,
   "id": "c6286a36",
   "metadata": {},
   "outputs": [],
   "source": [
    "#기본 미분 필터\n",
    "\n",
    "img = cv2.imread(\"./img/sudoku.jpg\")\n",
    "\n",
    "#기본 미분\n",
    "gx_kernel = np.array([[-1,1]])\n",
    "gy_kernel = np.array([[-1],[1]])\n",
    "\n",
    "#필터 적용\n",
    "edge_gx = cv2.filter2D(img, -1, gx_kernel)\n",
    "edge_gy = cv2.filter2D(img, -1, gx_kernel)\n",
    "\n",
    "merged=np.hstack((img, edge_gx, edge_gy))\n",
    "cv2.imshow(\"merged\", merged)\n",
    "cv2.waitKey(0)\n",
    "cv2.destroyAllWindows()"
   ]
  },
  {
   "cell_type": "code",
   "execution_count": 61,
   "id": "6a2a2f3b",
   "metadata": {},
   "outputs": [],
   "source": [
    "## 로버츠 교차 필터(기본 미분 필터를 개선한 커털을 제안함) = 대각선 방향으로 1과 -1을 배치하여 사선 경계 검출 효과를 높암\n",
    "\n",
    "img = cv2.imread(\"./img/sudoku.jpg\")\n",
    "\n",
    "gx_kernel = np.array([[1,0],[0,-1]])\n",
    "gy_kernel = np.array([[0,1],[-1,0]])\n",
    "\n",
    "edge_gx=cv2.filter2D(img, -1, gx_kernel)\n",
    "edge_gy = cv2.filter2D(img, -1, gy_kernel)\n",
    "\n",
    "merged = np.hstack((img, edge_gx, edge_gy, edge_gx + edge_gy))\n",
    "cv2.imshow(\"merged\", merged)\n",
    "cv2.waitKey(0)\n",
    "cv2.destroyAllWindows()"
   ]
  },
  {
   "cell_type": "code",
   "execution_count": 62,
   "id": "79d47fe6",
   "metadata": {},
   "outputs": [],
   "source": [
    "# 프리윗 필터(각 방향으로 차분을 세번 계산하도록 배치...) = 대각선 검출이 약하다..\n",
    "\n",
    "img = cv2.imread(\"./img/sudoku.jpg\")\n",
    "\n",
    "gx_k = np.array([[-1,0,1],[-1,0,1],[-1,0,1]])\n",
    "gy_k = np.array([[-1,-1,-1],[0,0,0],[1,1,1]])\n",
    "\n",
    "edge_gx = cv2.filter2D(img, -1, gx_k)\n",
    "edge_gy = cv2.filter2D(img, -1, gy_k)\n",
    "\n",
    "merged = np.hstack((img, edge_gx, edge_gy, edge_gx + edge_gy))\n",
    "cv2.imshow(\"prewitt cross\", merged)\n",
    "cv2.waitKey(0)\n",
    "cv2.destroyAllWindows()"
   ]
  },
  {
   "cell_type": "code",
   "execution_count": 70,
   "id": "758415c8",
   "metadata": {},
   "outputs": [],
   "source": [
    "## 소벨필터(중심 픽셀의 차분 비중을 두배로 주어 수평, 수직,대각선 경계  검출에 모두 강힌 마스트를 제안합니다)\n",
    "\n",
    "img = cv2.imread(\"./img/sudoku.jpg\")\n",
    "\n",
    "#소벨커널 생성\n",
    "gx_k = np.array([[-1,0,1],[-2,0,2],[-1,0,1]])\n",
    "gy_k = np.array([[-1,-2,-1],[0,0,0],[1,2,1]])\n",
    "\n",
    "edge_gx = cv2.filter2D(img, -1, gx_k)\n",
    "edge_gy = cv2.filter2D(img, -1, gy_k)\n",
    "\n",
    "# sobel API 생성\n",
    "sobelx = cv2.Sobel(img, -1, 2, 0, ksize=3)\n",
    "sobely = cv2.Sobel(img, -1, 0,2, ksize=3)\n",
    "\n",
    "merged1 = np.hstack((img, edge_gx, edge_gy, edge_gx + edge_gy))\n",
    "merged2 = np.hstack((img, sobelx, sobely, sobelx+sobely))\n",
    "merged3=np.vstack((merged1, merged2))\n",
    "cv2.imshow(\"sobel\", merged3)\n",
    "cv2.waitKey(0)\n",
    "cv2.destroyAllWindows()"
   ]
  },
  {
   "cell_type": "code",
   "execution_count": 74,
   "id": "b0618221",
   "metadata": {},
   "outputs": [],
   "source": [
    "## 샤르 필터\n",
    "\n",
    "img = cv2.imread(\"./img/sudoku.jpg\")\n",
    "\n",
    "gx_k = np.array([[-3,0,3],[-10,0,10],[-3,0,3]])\n",
    "gy_k = np.array([[-3, -10, -3], [0,0,0],[3,10,3]])\n",
    "\n",
    "edge_gx = cv2.filter2D(img,-1, gx_k)\n",
    "edge_gy = cv2.filter2D(img, -1, gy_k)\n",
    "\n",
    "scharrx = cv2.Scharr(img, -1, 1,0)\n",
    "scharry = cv2.Scharr(img, -1, 0,1)\n",
    "\n",
    "merged1 = np.hstack((img, edge_gx, edge_gy))\n",
    "merged2 = np.hstack((img, scharrx, scharry))\n",
    "merged3=np.vstack((merged1, merged2))\n",
    "cv2.imshow(\"sobel\", merged3)\n",
    "cv2.waitKey(0)\n",
    "cv2.destroyAllWindows()"
   ]
  },
  {
   "cell_type": "code",
   "execution_count": 75,
   "id": "3643a9c9",
   "metadata": {},
   "outputs": [],
   "source": [
    "## 라플라이사인 필터(2차 미분)\n",
    "\n",
    "img = cv2.imread(\"./img/sudoku.jpg\")\n",
    "edge=cv2.Laplacian(img, -1)\n",
    "\n",
    "merged = np.hstack((img, edge))\n",
    "cv2.imshow(\"Laplacian\", merged)\n",
    "cv2.waitKey(0)\n",
    "cv2.destroyAllWindows()"
   ]
  },
  {
   "cell_type": "code",
   "execution_count": 88,
   "id": "1560a40e",
   "metadata": {},
   "outputs": [],
   "source": [
    "## 캐니 엣지 (4단계) = 노이즈 제거(가우시안 필터), 그레이디언트 방향 검출, 비최대치 억제... 등\n",
    "# 특히 스레시홀드값의 지정에 따라 경계검출 대상을 조정할 수 있어서 가장 많이 사용되는 함수임.\n",
    "\n",
    "img = cv2.imread(\"./img/sudoku.jpg\")\n",
    "\n",
    "edges=cv2.Canny(img, 100,200) #스레시 홀드의 값(최대값 최소값)을 지정하여 경계 검출 대상 조정이 가능함\n",
    "\n",
    "cv2.imshow(\"Laplacian\", edges)\n",
    "cv2.imshow(\"original\", img)\n",
    "cv2.waitKey(0)\n",
    "cv2.destroyAllWindows()"
   ]
  },
  {
   "cell_type": "code",
   "execution_count": null,
   "id": "c239a05b",
   "metadata": {},
   "outputs": [],
   "source": []
  }
 ],
 "metadata": {
  "kernelspec": {
   "display_name": "Python 3",
   "language": "python",
   "name": "python3"
  },
  "language_info": {
   "codemirror_mode": {
    "name": "ipython",
    "version": 3
   },
   "file_extension": ".py",
   "mimetype": "text/x-python",
   "name": "python",
   "nbconvert_exporter": "python",
   "pygments_lexer": "ipython3",
   "version": "3.7.10"
  }
 },
 "nbformat": 4,
 "nbformat_minor": 5
}
